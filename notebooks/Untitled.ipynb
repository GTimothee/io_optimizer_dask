{
 "cells": [
  {
   "cell_type": "code",
   "execution_count": 2,
   "metadata": {},
   "outputs": [],
   "source": [
    "import sys\n",
    "sys.path.insert(0,'/home/user/Documents/workspace/bigdataneurolab/thesis/samActivities/')\n",
    "sys.path.insert(1,'/home/user/Documents/workspace/projects/dask')\n",
    "import dask\n",
    "import experience3"
   ]
  },
  {
   "cell_type": "code",
   "execution_count": null,
   "metadata": {},
   "outputs": [],
   "source": [
    "from experience3 import utils\n",
    "from utils import get_dask_array_from_hdf5, create_random_cube"
   ]
  },
  {
   "cell_type": "code",
   "execution_count": null,
   "metadata": {},
   "outputs": [],
   "source": [
    "geometry_shape = (770, 605, 700)\n",
    "work_dir = \"/run/media/user/HDD 1TB/\"\n",
    "input_file_path = work_dir + \"data/bbsamplesize.hdf5\""
   ]
  },
  {
   "cell_type": "code",
   "execution_count": null,
   "metadata": {},
   "outputs": [],
   "source": [
    "create_random_cube(storage_type=\"hdf5\",\n",
    "                   file_path=input_file_path,\n",
    "                   shape=(1540, 1210, 1400),\n",
    "                   chunks_shape=None,\n",
    "                   dtype=\"float16\")"
   ]
  },
  {
   "cell_type": "code",
   "execution_count": null,
   "metadata": {},
   "outputs": [],
   "source": [
    "arr = get_dask_array_from_hdf5(file_path=input_file_path, cast=True, key='/data')"
   ]
  },
  {
   "cell_type": "code",
   "execution_count": null,
   "metadata": {},
   "outputs": [],
   "source": [
    "arr = arr.rechunk(geometry_shape)"
   ]
  },
  {
   "cell_type": "code",
   "execution_count": null,
   "metadata": {},
   "outputs": [],
   "source": [
    "arr.chunks"
   ]
  },
  {
   "cell_type": "code",
   "execution_count": 17,
   "metadata": {},
   "outputs": [],
   "source": [
    "import dask.array as da\n",
    "import dask.blockwise as blockw\n",
    "import dask.highlevelgraph as highlevelgraph\n"
   ]
  },
  {
   "cell_type": "code",
   "execution_count": null,
   "metadata": {},
   "outputs": [],
   "source": []
  }
 ],
 "metadata": {
  "kernelspec": {
   "display_name": "dask_tests",
   "language": "python",
   "name": "dask_tests"
  },
  "language_info": {
   "codemirror_mode": {
    "name": "ipython",
    "version": 3
   },
   "file_extension": ".py",
   "mimetype": "text/x-python",
   "name": "python",
   "nbconvert_exporter": "python",
   "pygments_lexer": "ipython3",
   "version": "3.7.3"
  }
 },
 "nbformat": 4,
 "nbformat_minor": 2
}
